{
 "cells": [
  {
   "cell_type": "markdown",
   "id": "a5d3d450",
   "metadata": {},
   "source": [
    "**Алгоритм подготовки отчета Валовая прибыль в маркетплейсах по месяцу** \n",
    "\n",
    "Алгоритм подготавливает файл с итоговой валовой прибылью за месяц в маркетплейсах по брендам.\n",
    "\n",
    "Все конфиденциальные данные изменены.\n",
    "\n",
    "Отчет в Гугл таблице: <https://docs.google.com/spreadsheets/d/1YzV63TYdA7qRpUf0xzX-zm7UDS31ejGwB8pVdOv-mtI/edit#gid=415566582>"
   ]
  },
  {
   "cell_type": "code",
   "execution_count": 1,
   "id": "36527731",
   "metadata": {},
   "outputs": [],
   "source": [
    "# Импортируем нужные библиотеки, добавим переменные и прочитаем датафреймы\n",
    "import pandas as pd\n",
    "import datetime\n",
    "pd.set_option('display.float_format', '{:.2f}'.format)\n",
    "ozon = pd.read_excel('ozon.xlsx')\n",
    "wb = pd.read_excel('wb.xlsx')\n",
    "sku = pd.read_excel('sku.xlsx')\n",
    "cost_price = pd.read_excel('Себестоимости.xlsx')\n",
    "det_1 = pd.read_excel('детализация_1.xlsx')\n",
    "det_2 = pd.read_excel('детализация_2.xlsx')\n",
    "det_3 = pd.read_excel('детализация_3.xlsx')\n",
    "det_4 = pd.read_excel('детализация_4.xlsx')\n",
    "det_5 = pd.read_excel('детализация_5.xlsx')\n",
    "det_6 = pd.read_excel('детализация_6.xlsx')\n",
    "det_7 = pd.read_excel('детализация_7.xlsx')\n",
    "det_8 = pd.read_excel('детализация_8.xlsx')\n",
    "det_9 = pd.read_excel('детализация_9.xlsx')\n",
    "det_10 = pd.read_excel('детализация_10.xlsx')\n",
    "wb_commissions = pd.read_excel('комиссии wb.xlsx')"
   ]
  },
  {
   "cell_type": "code",
   "execution_count": 2,
   "id": "1f9eb167",
   "metadata": {},
   "outputs": [
    {
     "name": "stderr",
     "output_type": "stream",
     "text": [
      "/var/folders/8r/yntrmdj50090fw23b86grqz00000gn/T/ipykernel_2189/4088586201.py:3: FutureWarning: The frame.append method is deprecated and will be removed from pandas in a future version. Use pandas.concat instead.\n",
      "  det_1.append(det_2)\n",
      "/var/folders/8r/yntrmdj50090fw23b86grqz00000gn/T/ipykernel_2189/4088586201.py:3: FutureWarning: The frame.append method is deprecated and will be removed from pandas in a future version. Use pandas.concat instead.\n",
      "  det_1.append(det_2)\n",
      "/var/folders/8r/yntrmdj50090fw23b86grqz00000gn/T/ipykernel_2189/4088586201.py:3: FutureWarning: The frame.append method is deprecated and will be removed from pandas in a future version. Use pandas.concat instead.\n",
      "  det_1.append(det_2)\n",
      "/var/folders/8r/yntrmdj50090fw23b86grqz00000gn/T/ipykernel_2189/4088586201.py:3: FutureWarning: The frame.append method is deprecated and will be removed from pandas in a future version. Use pandas.concat instead.\n",
      "  det_1.append(det_2)\n",
      "/var/folders/8r/yntrmdj50090fw23b86grqz00000gn/T/ipykernel_2189/4088586201.py:3: FutureWarning: The frame.append method is deprecated and will be removed from pandas in a future version. Use pandas.concat instead.\n",
      "  det_1.append(det_2)\n",
      "/var/folders/8r/yntrmdj50090fw23b86grqz00000gn/T/ipykernel_2189/4088586201.py:3: FutureWarning: The frame.append method is deprecated and will be removed from pandas in a future version. Use pandas.concat instead.\n",
      "  det_1.append(det_2)\n",
      "/var/folders/8r/yntrmdj50090fw23b86grqz00000gn/T/ipykernel_2189/4088586201.py:3: FutureWarning: The frame.append method is deprecated and will be removed from pandas in a future version. Use pandas.concat instead.\n",
      "  det_1.append(det_2)\n",
      "/var/folders/8r/yntrmdj50090fw23b86grqz00000gn/T/ipykernel_2189/4088586201.py:3: FutureWarning: The frame.append method is deprecated and will be removed from pandas in a future version. Use pandas.concat instead.\n",
      "  det_1.append(det_2)\n"
     ]
    }
   ],
   "source": [
    "# Посчитаем усредненные суммы доставки и хранения на штуку товара в wb\n",
    "det = (\n",
    "    det_1.append(det_2)\n",
    "    .append(det_3)\n",
    "    .append(det_4)\n",
    "    .append(det_5)\n",
    "    .append(det_6)\n",
    "    .append(det_7)\n",
    "    .append(det_8)\n",
    "    .append(det_9)\n",
    "    .append(det_10)\n",
    ")\n",
    "wb_cost_of_delivery = wb_commissions['Сумма логистики'].sum()\n",
    "wb_storage_cost = wb_commissions['Сумма хранения'].sum()\n",
    "wb_cost_of_delivery_mean = wb_cost_of_delivery / det['Кол-во'].sum()\n",
    "wb_storage_cost_mean = wb_storage_cost / det['Кол-во'].sum()"
   ]
  },
  {
   "cell_type": "code",
   "execution_count": 3,
   "id": "1289f9c0",
   "metadata": {},
   "outputs": [],
   "source": [
    "# Обновим себестоимости\n",
    "sku = pd.merge(sku, cost_price, how='left', on=('Номенклатура'))\n",
    "sku['Себестоимость новая'] = sku['Себестоимость новая'].fillna(sku['Себестоимость'])\n",
    "sku = (\n",
    "    sku.drop(columns = ['Наименование товара', 'Себестоимость'],axis = 1)\n",
    "    .rename(columns={\"Себестоимость новая\": \"Себестоимость\"})\n",
    "    .drop_duplicates()\n",
    ")"
   ]
  },
  {
   "cell_type": "code",
   "execution_count": 4,
   "id": "ee6d9ff1",
   "metadata": {
    "scrolled": false
   },
   "outputs": [],
   "source": [
    "# Обработаем датафрейм ozon\n",
    "# Взаимоудалим возвраты\n",
    "ss = (\n",
    "    ozon.query('`За продажу или возврат до вычета комиссий и услуг` < 0')['Номер отправления или идентификатор услуги']\n",
    "    .unique().tolist()\n",
    ")\n",
    "ozon = ozon.query('`Номер отправления или идентификатор услуги` not in @ss')\n",
    "\n",
    "# Удалим нули в столбце \"За продажу или возврат до вычета комиссий и услуг\"\n",
    "ozon = ozon.query('`За продажу или возврат до вычета комиссий и услуг` != 0')\n",
    "\n",
    "# Оставим нужные столбцы\n",
    "ozon_use_columns = [\n",
    "    'Дата начисления', \n",
    "    'Артикул', \n",
    "    'Название товара или услуги', \n",
    "    'Количество', \n",
    "    'Итого']\n",
    "ozon = ozon[ozon_use_columns]\n",
    "\n",
    "# Приведем столбец \"Артикул\" к числовому формату\n",
    "ozon['Артикул'] = ozon['Артикул'].astype(int)\n",
    "\n",
    "# Добавим по артикулу дополнительные поля\n",
    "ozon = pd.merge(ozon, sku, how='left', on=('Артикул'))\n",
    "\n",
    "# Добавим столбец с валовой прибылью\n",
    "ozon['Валовая прибыль'] = ozon['Итого'] - (ozon['Себестоимость'] * ozon['Количество'])"
   ]
  },
  {
   "cell_type": "code",
   "execution_count": 5,
   "id": "3dabcfe5",
   "metadata": {},
   "outputs": [],
   "source": [
    "# Обработаем датафрейм wb\n",
    "# Оставим нужные столбцы\n",
    "wb_use_columns = [\n",
    "    'Дата', \n",
    "    'Артикул WB', \n",
    "    'Название', \n",
    "    'Продажи (WB)', \n",
    "    'Суммарная выручка (WB)']\n",
    "wb = wb[wb_use_columns]\n",
    "\n",
    "# Удалим нули и отрицательные значения в столбце \"Суммарная выручка (WB)\"\n",
    "wb = wb.query('`Суммарная выручка (WB)` > 0').rename(columns={\"Артикул WB\": \"Артикул\"})\n",
    "\n",
    "# Приведем столбец \"Дата\" к временному формату\n",
    "wb['Дата'] = wb['Дата'].astype('datetime64')\n",
    "\n",
    "# Добавим по артикулу дополнительные поля\n",
    "wb = pd.merge(wb, sku, how='left', on=('Артикул'))\n",
    "\n",
    "# Добавим столбец \"Усредненная сумма доставки на штуку товара\"\n",
    "wb['Усредненная сумма доставки на штуку товара'] = wb_cost_of_delivery_mean\n",
    "\n",
    "# Добавим столбец \"Усредненная сумма хранения на штуку товара\"\n",
    "wb['Усредненная сумма хранения на штуку товара'] = wb_storage_cost_mean\n",
    "\n",
    "# Добавим столбец \"Комиссия поверенного\"\n",
    "wb['Комиссия поверенного'] = wb['Суммарная выручка (WB)'] * 0.015\n",
    "\n",
    "# Добавим столбец с валовой прибылью\n",
    "wb['Валовая прибыль'] = wb['Суммарная выручка (WB)'] - (wb['Продажи (WB)'] * wb['Себестоимость']) - (wb['Продажи (WB)'] * wb['Усредненная сумма доставки на штуку товара']) - (wb['Продажи (WB)'] * wb['Усредненная сумма хранения на штуку товара']) - wb['Комиссия поверенного']"
   ]
  },
  {
   "cell_type": "code",
   "execution_count": 6,
   "id": "da55509c",
   "metadata": {
    "scrolled": true
   },
   "outputs": [
    {
     "name": "stderr",
     "output_type": "stream",
     "text": [
      "/var/folders/8r/yntrmdj50090fw23b86grqz00000gn/T/ipykernel_2189/2450536132.py:7: FutureWarning: The frame.append method is deprecated and will be removed from pandas in a future version. Use pandas.concat instead.\n",
      "  nan = nan_ozon.append(nan_wb).drop_duplicates()\n"
     ]
    },
    {
     "data": {
      "text/html": [
       "<div>\n",
       "<style scoped>\n",
       "    .dataframe tbody tr th:only-of-type {\n",
       "        vertical-align: middle;\n",
       "    }\n",
       "\n",
       "    .dataframe tbody tr th {\n",
       "        vertical-align: top;\n",
       "    }\n",
       "\n",
       "    .dataframe thead th {\n",
       "        text-align: right;\n",
       "    }\n",
       "</style>\n",
       "<table border=\"1\" class=\"dataframe\">\n",
       "  <thead>\n",
       "    <tr style=\"text-align: right;\">\n",
       "      <th></th>\n",
       "      <th>Артикул</th>\n",
       "      <th>Название</th>\n",
       "    </tr>\n",
       "  </thead>\n",
       "  <tbody>\n",
       "  </tbody>\n",
       "</table>\n",
       "</div>"
      ],
      "text/plain": [
       "Empty DataFrame\n",
       "Columns: [Артикул, Название]\n",
       "Index: []"
      ]
     },
     "execution_count": 6,
     "metadata": {},
     "output_type": "execute_result"
    }
   ],
   "source": [
    "# Выгрузим в эксель уникальные артикулы, которые не нашлись в sku\n",
    "nan_ozon = (\n",
    "    ozon[ozon['Название линейки'].isna()][['Артикул', 'Название товара или услуги']]\n",
    "    .rename(columns={\"Название товара или услуги\": \"Название\"})\n",
    ")\n",
    "nan_wb = wb[wb['Название линейки'].isna()][['Артикул', 'Название']]\n",
    "nan = nan_ozon.append(nan_wb).drop_duplicates()\n",
    "nan.to_excel('nan.xlsx')\n",
    "nan"
   ]
  },
  {
   "cell_type": "code",
   "execution_count": 7,
   "id": "f53b21e8",
   "metadata": {},
   "outputs": [],
   "source": [
    "# Создадим сгруппированные таблицы по валовой прибыли и бренду\n",
    "ozon_total = ozon.groupby('Бренд').agg({'Валовая прибыль':'sum'})\n",
    "wb_total = wb.groupby('Бренд').agg({'Валовая прибыль':'sum'})"
   ]
  },
  {
   "cell_type": "code",
   "execution_count": 8,
   "id": "4573e08c",
   "metadata": {},
   "outputs": [],
   "source": [
    "# Импортируем листы в эксель\n",
    "writer = pd.ExcelWriter('Маркетплейсы Валовая прибыль.xlsx', engine='xlsxwriter')\n",
    "ozon.to_excel(writer, 'Ozon расчеты', index=False)\n",
    "wb.to_excel(writer, 'WB расчеты', index=False)\n",
    "ozon_total.to_excel(writer, 'Ozon итого')\n",
    "wb_total.to_excel(writer, 'WB итого')\n",
    "writer.save()"
   ]
  }
 ],
 "metadata": {
  "kernelspec": {
   "display_name": "Python 3 (ipykernel)",
   "language": "python",
   "name": "python3"
  },
  "language_info": {
   "codemirror_mode": {
    "name": "ipython",
    "version": 3
   },
   "file_extension": ".py",
   "mimetype": "text/x-python",
   "name": "python",
   "nbconvert_exporter": "python",
   "pygments_lexer": "ipython3",
   "version": "3.9.12"
  },
  "toc": {
   "base_numbering": 1,
   "nav_menu": {},
   "number_sections": true,
   "sideBar": true,
   "skip_h1_title": false,
   "title_cell": "Table of Contents",
   "title_sidebar": "Contents",
   "toc_cell": false,
   "toc_position": {},
   "toc_section_display": true,
   "toc_window_display": false
  }
 },
 "nbformat": 4,
 "nbformat_minor": 5
}
