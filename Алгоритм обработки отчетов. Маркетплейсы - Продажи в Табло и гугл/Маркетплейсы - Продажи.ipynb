{
 "cells": [
  {
   "cell_type": "markdown",
   "id": "51ac59ee",
   "metadata": {},
   "source": [
    "**Алгоритм обработки отчетов по продажам всех популярных маркетплейсов** \n",
    "\n",
    "Алгоритм подготавливает файл для формирования дашборда в Tableau и обновляет общую гугл таблицу \"План-факт-прогноз\" по месяцам.\n",
    "\n",
    "Все конфиденциальные данные изменены.\n",
    "\n",
    "Дашборд в Tableau: <https://public.tableau.com/app/profile/alexey.chernov/viz/-_16869947210590/-_2>\n",
    "\n",
    "Гугл таблица: <https://docs.google.com/spreadsheets/d/1FN58-jfsO6r34gc0CUSPdo1ouJoXXrOFCEWGMnY1I7I/edit#gid=252614967>"
   ]
  },
  {
   "cell_type": "code",
   "execution_count": 8,
   "id": "4a4556da",
   "metadata": {
    "scrolled": true
   },
   "outputs": [],
   "source": [
    "# Импортируем нужные библиотеки, запустим подключения и прочитаем датафреймы\n",
    "import pandas as pd\n",
    "import datetime\n",
    "import gspread\n",
    "from oauth2client.service_account import ServiceAccountCredentials\n",
    "from pandas.io.json import json_normalize\n",
    "from df2gspread import df2gspread as d2g\n",
    "scope = ['https://spreadsheets.google.com/feeds']\n",
    "credentials = ServiceAccountCredentials.from_json_keyfile_name('totemic-vim-366006-ed79027e67bd.json', scope)\n",
    "gc = gspread.authorize(credentials)\n",
    "pd.set_option('display.float_format', '{:.2f}'.format)\n",
    "ozon = pd.read_excel('ozon.xlsx')\n",
    "wb = pd.read_excel('wb.xlsx')\n",
    "sber = pd.read_excel('sber.xls')\n",
    "sber_pi = pd.read_excel('sber_pi.xls')\n",
    "ya_fby = pd.read_excel('яндекс fby.xlsx')\n",
    "ya_dsc = pd.read_excel('яндекс дисконт.xlsx')\n",
    "ya_fbs_msk_basic = pd.read_excel('яндекс мск основной.xlsx')\n",
    "ya_fbs_msk_express = pd.read_excel('яндекс мск экспресс.xlsx')\n",
    "ya_fbs_msk_pi = pd.read_excel('яндекс мск пи.xlsx')\n",
    "ya_fbs_nsk_basic = pd.read_excel('яндекс нск.xlsx')\n",
    "ya_fbs_nsk_express = pd.read_excel('яндекс нск экспресс.xlsx')\n",
    "#ya_basic = pd.read_excel('яндекс основной.xlsx', sheet_name='Транзакции по заказам и товарам', skiprows=7)\n",
    "#ya_dsc = pd.read_excel('яндекс дисконт.xlsx', sheet_name='Транзакции по заказам и товарам', skiprows=7)\n",
    "ali = pd.read_excel('али.xlsx')\n",
    "dm = pd.read_excel('дм.xlsx')\n",
    "sku = pd.read_excel('sku.xlsx')\n",
    "past_months = pd.read_excel('past_months.xlsx')"
   ]
  },
  {
   "cell_type": "code",
   "execution_count": 9,
   "id": "795bb952",
   "metadata": {},
   "outputs": [],
   "source": [
    "# Для обработки всех датафреймов\n",
    "use_columns = [\"Дата\", \"Артикул\", \"Наименование товара\", \"Количество\", \"Сумма\"]\n",
    "sku_new = sku[['Артикул', 'Название линейки', 'Штук в упаковке', 'Бренд', 'Номенклатура']]\n",
    "use_contract = ['Бренд 1', 'Бренд 2', 'Бренд 3', 'Бренд 4', 'Бренд 8', 'Бренд 11']\n",
    "\n",
    "# Переменная с количеством дней в месяце - меняем!\n",
    "day_in_month = 31\n",
    "\n",
    "# Переменная с номером месяца - меняем!\n",
    "month = 5"
   ]
  },
  {
   "cell_type": "code",
   "execution_count": 10,
   "id": "c27e0938",
   "metadata": {
    "scrolled": true
   },
   "outputs": [],
   "source": [
    "# Обработка датафрейма ozon\n",
    "# Оставим нужные столбцы\n",
    "ozon_use_columns = [\n",
    "    'Дата начисления', \n",
    "    'Артикул', \n",
    "    'Название товара или услуги', \n",
    "    'Количество', \n",
    "    'За продажу или возврат до вычета комиссий и услуг']\n",
    "ozon = ozon[ozon_use_columns]\n",
    "\n",
    "# Переименуем столбцы \n",
    "ozon.columns = use_columns\n",
    "\n",
    "# Удалим нули в столбце \"Сумма\"\n",
    "ozon = ozon.query('Сумма != 0')\n",
    "\n",
    "# Приведем столбец \"Артикул\" к числовому формату\n",
    "ozon['Артикул'] = ozon['Артикул'].astype(int)\n",
    "\n",
    "# Добавим по артикулу дополнительные поля\n",
    "ozon = pd.merge(ozon, sku_new, how='left', on=('Артикул'))"
   ]
  },
  {
   "cell_type": "code",
   "execution_count": 11,
   "id": "e1bee36e",
   "metadata": {},
   "outputs": [],
   "source": [
    "# Обработка датафрейма wb\n",
    "# Оставим нужные столбцы\n",
    "wb_use_columns = [\n",
    "    'Дата', \n",
    "    'Артикул WB', \n",
    "    'Название', \n",
    "    'Продажи (WB)', \n",
    "    'Суммарная выручка (WB)']\n",
    "wb = wb[wb_use_columns]\n",
    "\n",
    "# Переименуем столбцы \n",
    "wb.columns = use_columns\n",
    "\n",
    "# Удалим нули в столбце \"Сумма\"\n",
    "wb = wb.query('Сумма != 0')\n",
    "\n",
    "# Приведем столбец \"Дата\" к временному формату\n",
    "wb['Дата'] = wb['Дата'].astype('datetime64')\n",
    "\n",
    "# Добавим по артикулу дополнительные поля\n",
    "wb = pd.merge(wb, sku_new, how='left', on=('Артикул'))"
   ]
  },
  {
   "cell_type": "code",
   "execution_count": 12,
   "id": "ae4c91d3",
   "metadata": {},
   "outputs": [
    {
     "name": "stderr",
     "output_type": "stream",
     "text": [
      "/var/folders/8r/yntrmdj50090fw23b86grqz00000gn/T/ipykernel_1118/3779298260.py:3: FutureWarning: The frame.append method is deprecated and will be removed from pandas in a future version. Use pandas.concat instead.\n",
      "  sber = sber.append(sber_pi)\n"
     ]
    }
   ],
   "source": [
    "# Обработка датафрейма sber\n",
    "# Объединим датафреймы\n",
    "sber = sber.append(sber_pi)\n",
    "\n",
    "# Оставим нужные статусы\n",
    "sber = sber.query('`Статус заказа` == \"Доставлен\" or `Статус заказа` == \"Выполняется\"')\n",
    "\n",
    "# Оставим нужные столбцы\n",
    "sber_use_columns = [\n",
    "    'Дата создания заказа', \n",
    "    'Артикул товара продавца', \n",
    "    'Наименование товара', \n",
    "    'Кол-во штук в заказе', \n",
    "    'Стоимость товара продавца']\n",
    "sber = sber[sber_use_columns]\n",
    "\n",
    "# Переименуем столбцы \n",
    "sber.columns = use_columns\n",
    "\n",
    "# Удалим время в столбце\n",
    "sber['Дата'] = pd.to_datetime(sber['Дата']).dt.date\n",
    "sber['Дата'] = pd.to_datetime(sber['Дата'], format='%Y-%m-%d')\n",
    "\n",
    "# Добавим по артикулу дополнительные поля\n",
    "sber = pd.merge(sber, sku_new, how='left', on=('Артикул'))"
   ]
  },
  {
   "cell_type": "code",
   "execution_count": 13,
   "id": "4e9c7f49",
   "metadata": {},
   "outputs": [
    {
     "name": "stderr",
     "output_type": "stream",
     "text": [
      "/var/folders/8r/yntrmdj50090fw23b86grqz00000gn/T/ipykernel_1118/2429730305.py:4: FutureWarning: The frame.append method is deprecated and will be removed from pandas in a future version. Use pandas.concat instead.\n",
      "  ya_fby.append(ya_dsc)\n",
      "/var/folders/8r/yntrmdj50090fw23b86grqz00000gn/T/ipykernel_1118/2429730305.py:4: FutureWarning: The frame.append method is deprecated and will be removed from pandas in a future version. Use pandas.concat instead.\n",
      "  ya_fby.append(ya_dsc)\n",
      "/var/folders/8r/yntrmdj50090fw23b86grqz00000gn/T/ipykernel_1118/2429730305.py:4: FutureWarning: The frame.append method is deprecated and will be removed from pandas in a future version. Use pandas.concat instead.\n",
      "  ya_fby.append(ya_dsc)\n",
      "/var/folders/8r/yntrmdj50090fw23b86grqz00000gn/T/ipykernel_1118/2429730305.py:4: FutureWarning: The frame.append method is deprecated and will be removed from pandas in a future version. Use pandas.concat instead.\n",
      "  ya_fby.append(ya_dsc)\n",
      "/var/folders/8r/yntrmdj50090fw23b86grqz00000gn/T/ipykernel_1118/2429730305.py:4: FutureWarning: The frame.append method is deprecated and will be removed from pandas in a future version. Use pandas.concat instead.\n",
      "  ya_fby.append(ya_dsc)\n"
     ]
    }
   ],
   "source": [
    "# Обработка датафрейма yandex по отчету \"Показы и продажи\"\n",
    "# Объединим 7 датафреймов в один\n",
    "yandex = (\n",
    "    ya_fby.append(ya_dsc)\n",
    "    .append(ya_fbs_msk_basic)\n",
    "    .append(ya_fbs_msk_express)\n",
    "    .append(ya_fbs_msk_pi)\n",
    "    .append(ya_fbs_nsk_basic)\n",
    "    .append(ya_fbs_nsk_express)\n",
    ")\n",
    "\n",
    "# Оставим нужные столбцы\n",
    "ya_use_columns = [\n",
    "    'День', \n",
    "    'Ваш SKU', \n",
    "    'Название товара', \n",
    "    'Продажи, шт.', \n",
    "    'Продажи, руб.'\n",
    "]\n",
    "yandex = yandex[ya_use_columns]\n",
    "\n",
    "# Переименуем столбцы \n",
    "yandex.columns = use_columns\n",
    "\n",
    "# Удалим нули в столбце \"Сумма\"\n",
    "yandex = yandex.query('Сумма != 0')\n",
    "\n",
    "# Приведем столбец \"Дата\" к временному формату\n",
    "yandex['Дата'] = pd.to_datetime(yandex['Дата'], format='%d-%m-%Y')\n",
    "\n",
    "# Добавим по артикулу дополнительные поля\n",
    "yandex = pd.merge(yandex, sku_new, how='left', on=('Артикул'))\n",
    "\n",
    "# Обработаем также датафрейм со складом пи\n",
    "yandex_pi = ya_fbs_msk_pi[ya_use_columns]\n",
    "yandex_pi.columns = use_columns\n",
    "yandex_pi = yandex_pi.query('Сумма != 0')\n",
    "yandex_pi['Дата'] = pd.to_datetime(yandex_pi['Дата'], format='%d-%m-%Y')\n",
    "yandex_pi = pd.merge(yandex_pi, sku_new, how='left', on=('Артикул'))"
   ]
  },
  {
   "cell_type": "code",
   "execution_count": 8,
   "id": "7df7a30e",
   "metadata": {
    "scrolled": true
   },
   "outputs": [],
   "source": [
    "# Обработка датафрейма yandex по отчету по заказам\n",
    "#yandex = ya_basic.append(ya_dsc)\n",
    "\n",
    "# Оставим только статус \"Доставлен\"\n",
    "#yandex = yandex.query('`Статус товара` == \"Доставлен\"')\n",
    "\n",
    "# Приведем столбец \"Статус изменен\" в даты и оставим целевой месяц\n",
    "#yandex['Статус изменен'] = pd.to_datetime(yandex['Статус изменен']).dt.date\n",
    "#yandex['Статус изменен'] = pd.to_datetime(yandex['Статус изменен'], format='%Y-%m-%d')\n",
    "#yandex['Месяц'] = yandex['Статус изменен'].dt.month\n",
    "#yandex = yandex.query('Месяц == @month')\n",
    "\n",
    "# Сделаем столбец с суммой продажи\n",
    "#yandex['Сумма'] = yandex['Количество'] * yandex['Ваша цена (за шт.)']\n",
    "\n",
    "# Сделаем датафрейм отдельно со складом - Пи\n",
    "#yandex_pi = yandex.query('`Названия магазинов` == \"МСК FBS Пи\"')\n",
    "\n",
    "# Оставим нужные столбцы\n",
    "#ya_use_columns = [\n",
    "#    'Статус изменен', \n",
    "#    'Ваш SKU', \n",
    "#    'Название товара', \n",
    "#    'Количество', \n",
    "#    'Сумма']\n",
    "#yandex = yandex[ya_use_columns]\n",
    "#yandex_pi = yandex_pi[ya_use_columns]\n",
    "\n",
    "# Переименуем столбцы \n",
    "#yandex.columns = use_columns\n",
    "#yandex_pi.columns = use_columns\n",
    "\n",
    "# Добавим по артикулу дополнительные поля\n",
    "#yandex = pd.merge(yandex, sku_new, how='left', on=('Артикул'))\n",
    "#yandex_pi = pd.merge(yandex_pi, sku_new, how='left', on=('Артикул'))\n",
    "\n",
    "# Уберем неполную дату\n",
    "#ozon_date = ozon[\"Дата\"].max()\n",
    "#yandex = yandex.query('Дата <= @ozon_date')\n",
    "#yandex_pi = yandex_pi.query('Дата <= @ozon_date')"
   ]
  },
  {
   "cell_type": "code",
   "execution_count": 14,
   "id": "31004287",
   "metadata": {},
   "outputs": [],
   "source": [
    "# Обработка датафрейма ali\n",
    "# Удалим отмененные заказы\n",
    "ali = ali.query('Отменен != \"V\"')\n",
    "\n",
    "# Добавим столбец с суммой\n",
    "ali['Сумма'] = ali['Количество'] * ali['Цена товара']\n",
    "\n",
    "# Оставим нужные столбцы\n",
    "ali_use_columns = [\n",
    "    'Дата заказа', \n",
    "    'Артикул', \n",
    "    'Номенклатура, Характеристика', \n",
    "    'Количество', \n",
    "    'Сумма']\n",
    "ali = ali[ali_use_columns]\n",
    "\n",
    "# Переименуем столбцы \n",
    "ali.columns = use_columns\n",
    "\n",
    "# Приведем столбец \"Дата\" к временному формату\n",
    "ali['Дата'] = pd.to_datetime(ali['Дата'], format='%d.%m.%Y')\n",
    "\n",
    "# Добавим по артикулу дополнительные поля\n",
    "ali = pd.merge(ali, sku_new, how='left', on=('Артикул'))"
   ]
  },
  {
   "cell_type": "code",
   "execution_count": 15,
   "id": "d8fc1196",
   "metadata": {},
   "outputs": [],
   "source": [
    "# Обработка датафрейма dm\n",
    "# Удалим нули\n",
    "dm = dm.query('`Сумма заказов в рублях за выбранный период в фактических ценах продажи` != 0')\n",
    "\n",
    "# Оставим нужные столбцы\n",
    "dm_use_columns = [\n",
    "    'Дата', \n",
    "    'Артикул по учетной системе поставщика', \n",
    "    'Полное наименование товара', \n",
    "    'Кол-во заказов в штуках за выбранный период', \n",
    "    'Сумма заказов в рублях за выбранный период в фактических ценах продажи']\n",
    "dm = dm[dm_use_columns]\n",
    "\n",
    "# Переименуем столбцы \n",
    "dm.columns = use_columns\n",
    "\n",
    "# Добавим по артикулу дополнительные поля\n",
    "dm = pd.merge(dm, sku_new, how='left', on=('Артикул'))"
   ]
  },
  {
   "cell_type": "code",
   "execution_count": 16,
   "id": "b97d1ba0",
   "metadata": {
    "scrolled": false
   },
   "outputs": [
    {
     "name": "stderr",
     "output_type": "stream",
     "text": [
      "/var/folders/8r/yntrmdj50090fw23b86grqz00000gn/T/ipykernel_1118/1486591859.py:8: FutureWarning: The frame.append method is deprecated and will be removed from pandas in a future version. Use pandas.concat instead.\n",
      "  nan = nan_ozon.append(nan_wb).append(nan_sber).append(nan_yandex).append(nan_ali).append(nan_dm)\n",
      "/var/folders/8r/yntrmdj50090fw23b86grqz00000gn/T/ipykernel_1118/1486591859.py:8: FutureWarning: The frame.append method is deprecated and will be removed from pandas in a future version. Use pandas.concat instead.\n",
      "  nan = nan_ozon.append(nan_wb).append(nan_sber).append(nan_yandex).append(nan_ali).append(nan_dm)\n",
      "/var/folders/8r/yntrmdj50090fw23b86grqz00000gn/T/ipykernel_1118/1486591859.py:8: FutureWarning: The frame.append method is deprecated and will be removed from pandas in a future version. Use pandas.concat instead.\n",
      "  nan = nan_ozon.append(nan_wb).append(nan_sber).append(nan_yandex).append(nan_ali).append(nan_dm)\n",
      "/var/folders/8r/yntrmdj50090fw23b86grqz00000gn/T/ipykernel_1118/1486591859.py:8: FutureWarning: The frame.append method is deprecated and will be removed from pandas in a future version. Use pandas.concat instead.\n",
      "  nan = nan_ozon.append(nan_wb).append(nan_sber).append(nan_yandex).append(nan_ali).append(nan_dm)\n",
      "/var/folders/8r/yntrmdj50090fw23b86grqz00000gn/T/ipykernel_1118/1486591859.py:8: FutureWarning: The frame.append method is deprecated and will be removed from pandas in a future version. Use pandas.concat instead.\n",
      "  nan = nan_ozon.append(nan_wb).append(nan_sber).append(nan_yandex).append(nan_ali).append(nan_dm)\n"
     ]
    },
    {
     "data": {
      "text/html": [
       "<div>\n",
       "<style scoped>\n",
       "    .dataframe tbody tr th:only-of-type {\n",
       "        vertical-align: middle;\n",
       "    }\n",
       "\n",
       "    .dataframe tbody tr th {\n",
       "        vertical-align: top;\n",
       "    }\n",
       "\n",
       "    .dataframe thead th {\n",
       "        text-align: right;\n",
       "    }\n",
       "</style>\n",
       "<table border=\"1\" class=\"dataframe\">\n",
       "  <thead>\n",
       "    <tr style=\"text-align: right;\">\n",
       "      <th></th>\n",
       "      <th>Артикул</th>\n",
       "      <th>Наименование товара</th>\n",
       "    </tr>\n",
       "  </thead>\n",
       "  <tbody>\n",
       "  </tbody>\n",
       "</table>\n",
       "</div>"
      ],
      "text/plain": [
       "Empty DataFrame\n",
       "Columns: [Артикул, Наименование товара]\n",
       "Index: []"
      ]
     },
     "execution_count": 16,
     "metadata": {},
     "output_type": "execute_result"
    }
   ],
   "source": [
    "# Выведем на экран уникальные артикулы, которые не нашлись в sku\n",
    "nan_ozon = ozon[ozon['Название линейки'].isna()]\n",
    "nan_wb = wb[wb['Название линейки'].isna()]\n",
    "nan_sber = sber[sber['Название линейки'].isna()]\n",
    "nan_yandex = yandex[yandex['Название линейки'].isna()]\n",
    "nan_ali = ali[ali['Название линейки'].isna()]\n",
    "nan_dm = dm[dm['Название линейки'].isna()]\n",
    "nan = nan_ozon.append(nan_wb).append(nan_sber).append(nan_yandex).append(nan_ali).append(nan_dm)\n",
    "nan = nan[['Артикул', 'Наименование товара']].drop_duplicates(['Артикул']).sort_values(by='Артикул')\n",
    "nan"
   ]
  },
  {
   "cell_type": "code",
   "execution_count": 17,
   "id": "97798526",
   "metadata": {},
   "outputs": [
    {
     "name": "stderr",
     "output_type": "stream",
     "text": [
      "/var/folders/8r/yntrmdj50090fw23b86grqz00000gn/T/ipykernel_1118/1316598748.py:2: FutureWarning: The frame.append method is deprecated and will be removed from pandas in a future version. Use pandas.concat instead.\n",
      "  sku = sku.append(nan).drop(columns='Себестоимость', axis=1).rename(columns={\"Себестоимость новая\": \"Себестоимость\"})\n"
     ]
    }
   ],
   "source": [
    "# Выгрузим в эксель sku новые артикулы, которые не нашлись\n",
    "sku = sku.append(nan).drop(columns='Себестоимость', axis=1).rename(columns={\"Себестоимость новая\": \"Себестоимость\"})\n",
    "sku.to_excel('sku.xlsx', index=False)"
   ]
  },
  {
   "cell_type": "code",
   "execution_count": 18,
   "id": "70b4d3c8",
   "metadata": {},
   "outputs": [
    {
     "name": "stderr",
     "output_type": "stream",
     "text": [
      "/var/folders/8r/yntrmdj50090fw23b86grqz00000gn/T/ipykernel_1118/2294618282.py:67: FutureWarning: The frame.append method is deprecated and will be removed from pandas in a future version. Use pandas.concat instead.\n",
      "  sales = ozon_total.append(wb_total).append(sber_total).append(yandex_total).append(ali_total).append(dm_total).append(yandex_pi_total).reset_index()\n",
      "/var/folders/8r/yntrmdj50090fw23b86grqz00000gn/T/ipykernel_1118/2294618282.py:67: FutureWarning: The frame.append method is deprecated and will be removed from pandas in a future version. Use pandas.concat instead.\n",
      "  sales = ozon_total.append(wb_total).append(sber_total).append(yandex_total).append(ali_total).append(dm_total).append(yandex_pi_total).reset_index()\n",
      "/var/folders/8r/yntrmdj50090fw23b86grqz00000gn/T/ipykernel_1118/2294618282.py:67: FutureWarning: The frame.append method is deprecated and will be removed from pandas in a future version. Use pandas.concat instead.\n",
      "  sales = ozon_total.append(wb_total).append(sber_total).append(yandex_total).append(ali_total).append(dm_total).append(yandex_pi_total).reset_index()\n",
      "/var/folders/8r/yntrmdj50090fw23b86grqz00000gn/T/ipykernel_1118/2294618282.py:67: FutureWarning: The frame.append method is deprecated and will be removed from pandas in a future version. Use pandas.concat instead.\n",
      "  sales = ozon_total.append(wb_total).append(sber_total).append(yandex_total).append(ali_total).append(dm_total).append(yandex_pi_total).reset_index()\n",
      "/var/folders/8r/yntrmdj50090fw23b86grqz00000gn/T/ipykernel_1118/2294618282.py:67: FutureWarning: The frame.append method is deprecated and will be removed from pandas in a future version. Use pandas.concat instead.\n",
      "  sales = ozon_total.append(wb_total).append(sber_total).append(yandex_total).append(ali_total).append(dm_total).append(yandex_pi_total).reset_index()\n",
      "/var/folders/8r/yntrmdj50090fw23b86grqz00000gn/T/ipykernel_1118/2294618282.py:67: FutureWarning: The frame.append method is deprecated and will be removed from pandas in a future version. Use pandas.concat instead.\n",
      "  sales = ozon_total.append(wb_total).append(sber_total).append(yandex_total).append(ali_total).append(dm_total).append(yandex_pi_total).reset_index()\n"
     ]
    }
   ],
   "source": [
    "# Создадим столбец с названием маркетплэйса\n",
    "ozon['Маркетплэйс'] = 'Озон'\n",
    "wb['Маркетплэйс'] = 'WB'\n",
    "sber['Маркетплэйс'] = 'Сбер'\n",
    "yandex['Маркетплэйс'] = 'Яндекс'\n",
    "ali['Маркетплэйс'] = 'Али'\n",
    "dm['Маркетплэйс'] = 'ДМ'\n",
    "yandex_pi['Маркетплэйс'] = 'Яндекс - Пи'\n",
    "\n",
    "# Создадим сводные таблицы по бренду в каждом маркетплэйсе по сумме и добавим прогноз\n",
    "# ozon\n",
    "ozon_total = (\n",
    "    ozon.groupby(['Маркетплэйс', 'Бренд'])\n",
    "    .agg({'Сумма': 'sum'})\n",
    "    .query('`Бренд` in @use_contract')\n",
    ")\n",
    "ozon_total['Прогноз'] = ozon_total['Сумма'] / ozon['Дата'].max().day * day_in_month\n",
    "\n",
    "# wb\n",
    "wb_total = (\n",
    "    wb.groupby(['Маркетплэйс', 'Бренд'])\n",
    "    .agg({'Сумма': 'sum'})\n",
    "    .query('`Бренд` in @use_contract')\n",
    ")\n",
    "wb_total['Прогноз'] = wb_total['Сумма'] / wb['Дата'].max().day * day_in_month\n",
    "\n",
    "# sber\n",
    "sber_total = (\n",
    "    sber.groupby(['Маркетплэйс', 'Бренд'])\n",
    "    .agg({'Сумма': 'sum'})\n",
    "    .query('`Бренд` in @use_contract')\n",
    ")\n",
    "sber_total['Прогноз'] = sber_total['Сумма'] / sber['Дата'].max().day * day_in_month\n",
    "\n",
    "# yandex\n",
    "yandex_total = (\n",
    "    yandex.groupby(['Маркетплэйс', 'Бренд'])\n",
    "    .agg({'Сумма': 'sum'})\n",
    "    .query('`Бренд` in @use_contract')\n",
    ")\n",
    "yandex_total['Прогноз'] = yandex_total['Сумма'] / yandex['Дата'].max().day * day_in_month\n",
    "\n",
    "yandex_pi_total = (\n",
    "    yandex_pi.groupby(['Маркетплэйс', 'Бренд'])\n",
    "    .agg({'Сумма': 'sum'})\n",
    "    .query('`Бренд` in @use_contract')\n",
    ")\n",
    "yandex_pi_total['Прогноз'] = yandex_pi_total['Сумма'] / yandex_pi['Дата'].max().day * day_in_month\n",
    "\n",
    "# ali\n",
    "ali_total = (\n",
    "    ali.groupby(['Маркетплэйс', 'Бренд'])\n",
    "    .agg({'Сумма': 'sum'})\n",
    "    .query('`Бренд` in @use_contract')\n",
    ")\n",
    "ali_total['Прогноз'] = ali_total['Сумма'] / ali['Дата'].max().day * day_in_month\n",
    "\n",
    "# dm\n",
    "dm_total = (\n",
    "    dm.groupby(['Маркетплэйс', 'Бренд'])\n",
    "    .agg({'Сумма': 'sum'})\n",
    "    .query('`Бренд` in @use_contract')\n",
    ")\n",
    "dm_total['Прогноз'] = dm_total['Сумма'] / dm['Дата'].max().day * day_in_month\n",
    "\n",
    "# Создадим общую сводную\n",
    "sales = ozon_total.append(wb_total).append(sber_total).append(yandex_total).append(ali_total).append(dm_total).append(yandex_pi_total).reset_index()\n",
    "sales['Сцепка'] = sales['Маркетплэйс'] + sales['Бренд']\n",
    "sales['Сумма'] = sales['Сумма'].astype(int)\n",
    "sales['Прогноз'] = sales['Прогноз'].astype(int)\n",
    "sales = sales[['Сцепка', 'Маркетплэйс', 'Бренд', 'Сумма', 'Прогноз']].reset_index(drop=True)"
   ]
  },
  {
   "cell_type": "code",
   "execution_count": 19,
   "id": "e4f81512",
   "metadata": {},
   "outputs": [
    {
     "data": {
      "text/plain": [
       "<Worksheet 'Юпитер - импорт' id:1686658842>"
      ]
     },
     "execution_count": 19,
     "metadata": {},
     "output_type": "execute_result"
    }
   ],
   "source": [
    "# Выгружаем таблицу в гугл \"Маркетплейсы: Продажи\"\n",
    "spreadsheet_key = '1FN58-jfsO6r34gc0CUSPdo1ouJoXXrOFCEWGMnY1I7I'\n",
    "wks_name = 'Юпитер - импорт'\n",
    "d2g.upload(sales, spreadsheet_key, wks_name, credentials=credentials, row_names=True)"
   ]
  },
  {
   "cell_type": "code",
   "execution_count": 20,
   "id": "cdb692b8",
   "metadata": {},
   "outputs": [
    {
     "name": "stderr",
     "output_type": "stream",
     "text": [
      "/var/folders/8r/yntrmdj50090fw23b86grqz00000gn/T/ipykernel_1118/397736374.py:3: FutureWarning: The frame.append method is deprecated and will be removed from pandas in a future version. Use pandas.concat instead.\n",
      "  ozon.append(wb)\n",
      "/var/folders/8r/yntrmdj50090fw23b86grqz00000gn/T/ipykernel_1118/397736374.py:3: FutureWarning: The frame.append method is deprecated and will be removed from pandas in a future version. Use pandas.concat instead.\n",
      "  ozon.append(wb)\n",
      "/var/folders/8r/yntrmdj50090fw23b86grqz00000gn/T/ipykernel_1118/397736374.py:3: FutureWarning: The frame.append method is deprecated and will be removed from pandas in a future version. Use pandas.concat instead.\n",
      "  ozon.append(wb)\n",
      "/var/folders/8r/yntrmdj50090fw23b86grqz00000gn/T/ipykernel_1118/397736374.py:3: FutureWarning: The frame.append method is deprecated and will be removed from pandas in a future version. Use pandas.concat instead.\n",
      "  ozon.append(wb)\n",
      "/var/folders/8r/yntrmdj50090fw23b86grqz00000gn/T/ipykernel_1118/397736374.py:3: FutureWarning: The frame.append method is deprecated and will be removed from pandas in a future version. Use pandas.concat instead.\n",
      "  ozon.append(wb)\n",
      "/var/folders/8r/yntrmdj50090fw23b86grqz00000gn/T/ipykernel_1118/397736374.py:3: FutureWarning: The frame.append method is deprecated and will be removed from pandas in a future version. Use pandas.concat instead.\n",
      "  ozon.append(wb)\n"
     ]
    },
    {
     "data": {
      "text/plain": [
       "<Worksheet 'Юпитер - даты' id:1021567636>"
      ]
     },
     "execution_count": 20,
     "metadata": {},
     "output_type": "execute_result"
    }
   ],
   "source": [
    "# Создадим файл с последней датой каждого маркетплэйса и выгрузим в гугл \"МП: Продажи 2023\"\n",
    "last_day = (\n",
    "    ozon.append(wb)\n",
    "    .append(sber)\n",
    "    .append(yandex)\n",
    "    .append(yandex_pi)\n",
    "    .append(ali)\n",
    "    .append(dm)\n",
    "    .groupby('Маркетплэйс')\n",
    "    .agg({'Дата': 'max'})\n",
    "    .reset_index()\n",
    ")\n",
    "wks_name = 'Юпитер - даты'\n",
    "d2g.upload(last_day, spreadsheet_key, wks_name, credentials=credentials, row_names=True)"
   ]
  },
  {
   "cell_type": "code",
   "execution_count": 22,
   "id": "3fddc92a",
   "metadata": {},
   "outputs": [
    {
     "name": "stderr",
     "output_type": "stream",
     "text": [
      "/var/folders/8r/yntrmdj50090fw23b86grqz00000gn/T/ipykernel_1118/1620154173.py:3: FutureWarning: The frame.append method is deprecated and will be removed from pandas in a future version. Use pandas.concat instead.\n",
      "  ozon.append(wb)\n",
      "/var/folders/8r/yntrmdj50090fw23b86grqz00000gn/T/ipykernel_1118/1620154173.py:3: FutureWarning: The frame.append method is deprecated and will be removed from pandas in a future version. Use pandas.concat instead.\n",
      "  ozon.append(wb)\n",
      "/var/folders/8r/yntrmdj50090fw23b86grqz00000gn/T/ipykernel_1118/1620154173.py:3: FutureWarning: The frame.append method is deprecated and will be removed from pandas in a future version. Use pandas.concat instead.\n",
      "  ozon.append(wb)\n",
      "/var/folders/8r/yntrmdj50090fw23b86grqz00000gn/T/ipykernel_1118/1620154173.py:3: FutureWarning: The frame.append method is deprecated and will be removed from pandas in a future version. Use pandas.concat instead.\n",
      "  ozon.append(wb)\n",
      "/var/folders/8r/yntrmdj50090fw23b86grqz00000gn/T/ipykernel_1118/1620154173.py:3: FutureWarning: The frame.append method is deprecated and will be removed from pandas in a future version. Use pandas.concat instead.\n",
      "  ozon.append(wb)\n",
      "/var/folders/8r/yntrmdj50090fw23b86grqz00000gn/T/ipykernel_1118/1620154173.py:41: FutureWarning: The frame.append method is deprecated and will be removed from pandas in a future version. Use pandas.concat instead.\n",
      "  tableau = tableau.drop(columns = ['Сцепка'],axis = 1).append(past_months)\n"
     ]
    }
   ],
   "source": [
    "# Подготовим и выгрузим файл в эксель для дашборда в Табло\n",
    "tableau = (\n",
    "    ozon.append(wb)\n",
    "    .append(sber)\n",
    "    .append(yandex)\n",
    "    .append(ali)\n",
    "    .append(dm)\n",
    "    .groupby(['Маркетплэйс', 'Бренд', 'Название линейки', 'Номенклатура', 'Дата'])\n",
    "    .agg({'Сумма': 'sum', 'Количество': 'sum'})\n",
    "    .query('`Бренд` in @use_contract')\n",
    "    .reset_index()\n",
    ")\n",
    "tableau['Сцепка'] = tableau['Маркетплэйс'] + tableau['Бренд']\n",
    "def contract_group(row):\n",
    "    con = row['Бренд']\n",
    "    if con == 'Бренд 2' or con == 'Бренд 11':\n",
    "        return 'Бренд 2+11'\n",
    "    else: \n",
    "        return 'Контракты'\n",
    "sales_tableau = sales[['Сцепка', 'Прогноз']]\n",
    "tableau = pd.merge(tableau, sales_tableau, how='left', on=('Сцепка'))\n",
    "tableau['Группа по контрактам'] = tableau.apply(contract_group, axis=1)\n",
    "prognos_group = (\n",
    "    tableau[['Прогноз', 'Группа по контрактам']].drop_duplicates()\n",
    "    .groupby('Группа по контрактам')\n",
    "    .agg({'Прогноз':'sum'})\n",
    "    .rename(columns={\"Прогноз\": \"Прогноз по группе\"})\n",
    ")\n",
    "tableau = pd.merge(tableau, prognos_group, how='left', on=('Группа по контрактам'))\n",
    "book = gc.open_by_key(spreadsheet_key)\n",
    "worksheet = book.worksheet(\"Export\")\n",
    "table = worksheet.get_all_values()\n",
    "plan = pd.DataFrame(table[1:], columns=table[0])\n",
    "plan = plan[['Сцепка', 'Маркетплэйс', 'Бренд', 'План']]\n",
    "plan = plan.apply(pd.to_numeric, errors='ignore')\n",
    "plan['Группа по контрактам'] = plan.apply(contract_group, axis=1)\n",
    "plan_group = plan.groupby('Группа по контрактам').agg({'План':'sum'}).rename(columns={\"План\": \"План по группе\"})\n",
    "plan = pd.merge(plan, plan_group, how='left', on=('Группа по контрактам'))\n",
    "plan = plan[['Сцепка', 'План', 'План по группе']]\n",
    "tableau = pd.merge(tableau, plan, how='left', on=('Сцепка'))\n",
    "tableau = tableau.drop(columns = ['Сцепка'],axis = 1).append(past_months)\n",
    "tableau.to_excel('tableau.xlsx', index=False)"
   ]
  },
  {
   "cell_type": "code",
   "execution_count": 17,
   "id": "f59d486f",
   "metadata": {},
   "outputs": [],
   "source": [
    "# По завершении месяца выгрузить эксель past_months\n",
    "#tableau.to_excel('past_months.xlsx', index=False)"
   ]
  }
 ],
 "metadata": {
  "kernelspec": {
   "display_name": "Python 3 (ipykernel)",
   "language": "python",
   "name": "python3"
  },
  "language_info": {
   "codemirror_mode": {
    "name": "ipython",
    "version": 3
   },
   "file_extension": ".py",
   "mimetype": "text/x-python",
   "name": "python",
   "nbconvert_exporter": "python",
   "pygments_lexer": "ipython3",
   "version": "3.9.12"
  },
  "toc": {
   "base_numbering": 1,
   "nav_menu": {},
   "number_sections": true,
   "sideBar": true,
   "skip_h1_title": false,
   "title_cell": "Table of Contents",
   "title_sidebar": "Contents",
   "toc_cell": false,
   "toc_position": {},
   "toc_section_display": true,
   "toc_window_display": false
  }
 },
 "nbformat": 4,
 "nbformat_minor": 5
}
